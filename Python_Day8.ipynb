{
  "nbformat": 4,
  "nbformat_minor": 0,
  "metadata": {
    "colab": {
      "provenance": [],
      "authorship_tag": "ABX9TyOg1/BTTLX2psLt2r9EGr63",
      "include_colab_link": true
    },
    "kernelspec": {
      "name": "python3",
      "display_name": "Python 3"
    },
    "language_info": {
      "name": "python"
    }
  },
  "cells": [
    {
      "cell_type": "markdown",
      "metadata": {
        "id": "view-in-github",
        "colab_type": "text"
      },
      "source": [
        "<a href=\"https://colab.research.google.com/github/danielle-smalley/PythonDaysofCode/blob/main/Python_Day8.ipynb\" target=\"_parent\"><img src=\"https://colab.research.google.com/assets/colab-badge.svg\" alt=\"Open In Colab\"/></a>"
      ]
    },
    {
      "cell_type": "code",
      "execution_count": 3,
      "metadata": {
        "colab": {
          "base_uri": "https://localhost:8080/"
        },
        "id": "nd_cSPMlk96l",
        "outputId": "78394aa0-2a88-49e1-e0dd-80c3cd0f4dc2"
      },
      "outputs": [
        {
          "output_type": "stream",
          "name": "stdout",
          "text": [
            "Please enter some text: I hope you have a wonderful Wednesday!\n",
            "In the text you fed me, there are 2 uppercase letters and 29 lowercase letters!\n"
          ]
        }
      ],
      "source": [
        "#Write a function that accepts a string and calculates the number of uppercase and lowercase letters in it.\n",
        "\n",
        "def count_upper_lower(user_string):\n",
        "    upper_count = 0\n",
        "    lower_count = 0\n",
        "    for char in user_string:\n",
        "        if char.isupper():\n",
        "          upper_count += 1\n",
        "        elif char.islower():\n",
        "          lower_count += 1\n",
        "    return upper_count, lower_count\n",
        "\n",
        "# Get user input\n",
        "user_string = input(\"Please enter some text: \")\n",
        "\n",
        "# Call the function and display the result\n",
        "result = count_upper_lower(user_string)\n",
        "print(f\"In the text you fed me, there are {result[0]} uppercase letters and {result[1]} lowercase letters!\")\n"
      ]
    }
  ]
}