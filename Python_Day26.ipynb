{
  "nbformat": 4,
  "nbformat_minor": 0,
  "metadata": {
    "colab": {
      "provenance": [],
      "authorship_tag": "ABX9TyPW0EEX6XoOzUHTKbOwjWFh",
      "include_colab_link": true
    },
    "kernelspec": {
      "name": "python3",
      "display_name": "Python 3"
    },
    "language_info": {
      "name": "python"
    }
  },
  "cells": [
    {
      "cell_type": "markdown",
      "metadata": {
        "id": "view-in-github",
        "colab_type": "text"
      },
      "source": [
        "<a href=\"https://colab.research.google.com/github/danielle-smalley/PythonDaysofCode/blob/main/Python_Day26.ipynb\" target=\"_parent\"><img src=\"https://colab.research.google.com/assets/colab-badge.svg\" alt=\"Open In Colab\"/></a>"
      ]
    },
    {
      "cell_type": "code",
      "execution_count": 1,
      "metadata": {
        "colab": {
          "base_uri": "https://localhost:8080/"
        },
        "id": "um52xXlXXSQ-",
        "outputId": "a442c307-b5b3-4393-f475-93d134ac141b"
      },
      "outputs": [
        {
          "output_type": "stream",
          "name": "stdout",
          "text": [
            "Enter a list of numbers separated by commas: 99, 333, 2648, 583790\n",
            "Here is your original list: [99, 333, 2648, 583790]\n",
            "I have squared all of your numbers here (you're welcome!):  [9801, 110889, 7011904, 340810764100]\n"
          ]
        }
      ],
      "source": [
        "#Create a program that uses a lambda function to square each element of a list.\n",
        "\n",
        "#Get numbers from user\n",
        "user_numbers = input(\"Enter a list of numbers separated by commas: \")\n",
        "input_list = [int(x) for x in user_numbers.split(',')]\n",
        "\n",
        "#Use lambda function to square each listed number\n",
        "square_up = lambda x: x**2\n",
        "squared_list = list(map(square_up, input_list))\n",
        "\n",
        "#Print the result\n",
        "print(\"Here is your original list:\", input_list)\n",
        "print(\"I have squared all of your numbers here (you're welcome!): \", squared_list)\n"
      ]
    }
  ]
}