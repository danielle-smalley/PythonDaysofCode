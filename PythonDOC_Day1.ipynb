{
  "nbformat": 4,
  "nbformat_minor": 0,
  "metadata": {
    "colab": {
      "provenance": [],
      "authorship_tag": "ABX9TyOGLCc0W/F/AvAaQtw56Ic3",
      "include_colab_link": true
    },
    "kernelspec": {
      "name": "python3",
      "display_name": "Python 3"
    },
    "language_info": {
      "name": "python"
    }
  },
  "cells": [
    {
      "cell_type": "markdown",
      "metadata": {
        "id": "view-in-github",
        "colab_type": "text"
      },
      "source": [
        "<a href=\"https://colab.research.google.com/github/danielle-smalley/PythonDaysofCode/blob/main/PythonDOC_Day1.ipynb\" target=\"_parent\"><img src=\"https://colab.research.google.com/assets/colab-badge.svg\" alt=\"Open In Colab\"/></a>"
      ]
    },
    {
      "cell_type": "code",
      "execution_count": 8,
      "metadata": {
        "colab": {
          "base_uri": "https://localhost:8080/"
        },
        "id": "spl1_cZS7eHP",
        "outputId": "c9d2e584-513f-4e75-c925-f23d885e4d36"
      },
      "outputs": [
        {
          "output_type": "stream",
          "name": "stdout",
          "text": [
            "\n",
            "What will you name your first cat?: lulu\n",
            "\n",
            "What will you name your second cat?: donnie\n",
            "\n",
            "Your first kitty cat name is lulu.\n",
            "\n",
            "Your second kitty cat name is donnie.\n",
            "\n",
            "But what if they wrestled and got mixed up...?\n",
            "\n",
            "Kitty cat number 1 is now donnie\n",
            "\n",
            "Kitty cat number 2 is now lulu\n",
            "\n",
            "What a cat-astrophe!\n"
          ]
        }
      ],
      "source": [
        "#Create a program that swaps the values of two variables.\n",
        "\n",
        "cat1 = input('\\nWhat will you name your first cat?: ')\n",
        "cat2 = input('\\nWhat will you name your second cat?: ')\n",
        "\n",
        "print(f\"\\nYour first kitty cat name is {cat1}.\")\n",
        "print(f\"\\nYour second kitty cat name is {cat2}.\")\n",
        "print(\"\\nBut what if they wrestled and got mixed up...?\")\n",
        "swapped_cats = cat1\n",
        "cat1 = cat2\n",
        "cat2 = swapped_cats\n",
        "\n",
        "print(f\"\\nKitty cat number 1 is now {cat1}\")\n",
        "print(f\"\\nKitty cat number 2 is now {cat2}\")\n",
        "print(\"\\nWhat a cat-astrophe!\")"
      ]
    },
    {
      "cell_type": "code",
      "source": [],
      "metadata": {
        "id": "XeyRFQd48yIX"
      },
      "execution_count": 1,
      "outputs": []
    }
  ]
}