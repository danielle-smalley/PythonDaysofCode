{
  "nbformat": 4,
  "nbformat_minor": 0,
  "metadata": {
    "colab": {
      "provenance": [],
      "authorship_tag": "ABX9TyN2QtKwKJ+xiBosCU9oDQEv",
      "include_colab_link": true
    },
    "kernelspec": {
      "name": "python3",
      "display_name": "Python 3"
    },
    "language_info": {
      "name": "python"
    }
  },
  "cells": [
    {
      "cell_type": "markdown",
      "metadata": {
        "id": "view-in-github",
        "colab_type": "text"
      },
      "source": [
        "<a href=\"https://colab.research.google.com/github/danielle-smalley/PythonDaysofCode/blob/main/Python_Day25.ipynb\" target=\"_parent\"><img src=\"https://colab.research.google.com/assets/colab-badge.svg\" alt=\"Open In Colab\"/></a>"
      ]
    },
    {
      "cell_type": "code",
      "execution_count": 3,
      "metadata": {
        "colab": {
          "base_uri": "https://localhost:8080/"
        },
        "id": "LFqA-NxRVmZN",
        "outputId": "3da0cd8a-641c-427d-b755-f65541436f75"
      },
      "outputs": [
        {
          "output_type": "stream",
          "name": "stdout",
          "text": [
            "Please provide a list of animals separated by commas: Pallas cat, koala, red panda, platypus\n",
            "Please provide a list of fruits separated by commas: strawberry, kiwi, avocado, Fuji apple\n",
            "SQUISH!! Here is your newly combined list:  ['Pallas cat', ' koala', ' red panda', ' platypus', 'strawberry', ' kiwi', ' avocado', ' Fuji apple']\n"
          ]
        }
      ],
      "source": [
        "#Create a program to concatenate two lists.\n",
        "\n",
        "\n",
        "animal_list = input(\"Please provide a list of animals separated by commas: \")\n",
        "list1 = [(x) for x in animal_list.split(',')]\n",
        "\n",
        "\n",
        "fruit_list = input(\"Please provide a list of fruits separated by commas: \")\n",
        "list2 = [(x) for x in fruit_list.split(',')]\n",
        "\n",
        "\n",
        "all_together_now = list1 + list2\n",
        "\n",
        "\n",
        "print(\"SQUISH!! Here is your newly combined list: \", all_together_now)"
      ]
    }
  ]
}