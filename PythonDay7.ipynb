{
  "nbformat": 4,
  "nbformat_minor": 0,
  "metadata": {
    "colab": {
      "provenance": [],
      "authorship_tag": "ABX9TyPoci1sY8ayCj/UdBcrbw5y",
      "include_colab_link": true
    },
    "kernelspec": {
      "name": "python3",
      "display_name": "Python 3"
    },
    "language_info": {
      "name": "python"
    }
  },
  "cells": [
    {
      "cell_type": "markdown",
      "metadata": {
        "id": "view-in-github",
        "colab_type": "text"
      },
      "source": [
        "<a href=\"https://colab.research.google.com/github/danielle-smalley/PythonDaysofCode/blob/main/PythonDay7.ipynb\" target=\"_parent\"><img src=\"https://colab.research.google.com/assets/colab-badge.svg\" alt=\"Open In Colab\"/></a>"
      ]
    },
    {
      "cell_type": "code",
      "execution_count": 10,
      "metadata": {
        "colab": {
          "base_uri": "https://localhost:8080/"
        },
        "id": "kddjRd49fvb5",
        "outputId": "bc80bb9b-0bf5-4b22-fd0b-90c429373cc1"
      },
      "outputs": [
        {
          "output_type": "stream",
          "name": "stdout",
          "text": [
            "Give me a number and I'll tell you about it: 55\n",
            "Your number (55.0) is positive! :)\n"
          ]
        }
      ],
      "source": [
        "#Write a program to check if a number is positive, negative, or zero.\n",
        "\n",
        "#Get user number, let's use a float\n",
        "user_number = float(input(\"Give me a number and I'll tell you about it: \"))\n",
        "\n",
        "#Is it positive, negative, or zero?\n",
        "if user_number > 0:\n",
        "  print(f\"Your number ({user_number}) is positive! :)\")\n",
        "elif user_number < 0:\n",
        "  print(f\"Your number ({user_number}) is negative :( \")\n",
        "else:\n",
        "  print(\"Your number is zero! Big ol' goose egg\")\n"
      ]
    }
  ]
}