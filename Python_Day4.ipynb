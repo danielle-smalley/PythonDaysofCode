{
  "nbformat": 4,
  "nbformat_minor": 0,
  "metadata": {
    "colab": {
      "provenance": [],
      "authorship_tag": "ABX9TyNgQIdH8yUdMvLbl/wJdrJm",
      "include_colab_link": true
    },
    "kernelspec": {
      "name": "python3",
      "display_name": "Python 3"
    },
    "language_info": {
      "name": "python"
    }
  },
  "cells": [
    {
      "cell_type": "markdown",
      "metadata": {
        "id": "view-in-github",
        "colab_type": "text"
      },
      "source": [
        "<a href=\"https://colab.research.google.com/github/danielle-smalley/PythonDaysofCode/blob/main/Python_Day4.ipynb\" target=\"_parent\"><img src=\"https://colab.research.google.com/assets/colab-badge.svg\" alt=\"Open In Colab\"/></a>"
      ]
    },
    {
      "cell_type": "code",
      "execution_count": 1,
      "metadata": {
        "colab": {
          "base_uri": "https://localhost:8080/"
        },
        "id": "x9FCLuw4IkXz",
        "outputId": "5bd2961d-5ffe-4567-d80a-bbfb31021b60"
      },
      "outputs": [
        {
          "output_type": "stream",
          "name": "stdout",
          "text": [
            "Enter a list of numbers separated by commas: 1, 2, 3,4 \n",
            "The sum of your numbers is: 10\n"
          ]
        }
      ],
      "source": [
        "#Write a program to find the sum of all elements in a list.\n",
        "\n",
        "def get_sum(elements):\n",
        "    return sum(elements)\n",
        "\n",
        "# Get user input for the list\n",
        "user_list = input(\"Enter a list of numbers separated by commas: \")\n",
        "\n",
        "# Convert the user input to a list of integers\n",
        "try:\n",
        "  cleaned_up_list = [int(num) for num in user_list.split(',')]\n",
        "except ValueError:\n",
        "  print(\"Error: Please only input numbers, separated by commas.\")\n",
        "  exit()\n",
        "\n",
        "# Calculate the sum using the function\n",
        "result = get_sum(cleaned_up_list)\n",
        "\n",
        "# Print the sum of the elements\n",
        "print(\"The sum of your numbers is:\", result)"
      ]
    }
  ]
}