{
  "nbformat": 4,
  "nbformat_minor": 0,
  "metadata": {
    "colab": {
      "provenance": [],
      "authorship_tag": "ABX9TyMKZCwdl98hL2gsoIHh2nTm",
      "include_colab_link": true
    },
    "kernelspec": {
      "name": "python3",
      "display_name": "Python 3"
    },
    "language_info": {
      "name": "python"
    }
  },
  "cells": [
    {
      "cell_type": "markdown",
      "metadata": {
        "id": "view-in-github",
        "colab_type": "text"
      },
      "source": [
        "<a href=\"https://colab.research.google.com/github/danielle-smalley/PythonDaysofCode/blob/main/Python_Day16.ipynb\" target=\"_parent\"><img src=\"https://colab.research.google.com/assets/colab-badge.svg\" alt=\"Open In Colab\"/></a>"
      ]
    },
    {
      "cell_type": "code",
      "execution_count": 12,
      "metadata": {
        "colab": {
          "base_uri": "https://localhost:8080/"
        },
        "id": "asx2WxqcatoH",
        "outputId": "6299718b-f9cd-46a3-e1bc-12230304bd79"
      },
      "outputs": [
        {
          "output_type": "stream",
          "name": "stdout",
          "text": [
            "Enter a sentence: hello; hello: this is a a sentence\n",
            "Word frequency counts: {'hello': 2, 'this': 1, 'is': 1, 'a': 2, 'sentence': 1}\n"
          ]
        }
      ],
      "source": [
        "#Write a function that counts the frequency of each word in a sentence.\n",
        "\n",
        "#Get rid of any spaces before/after word, as well as punctuation, make all lowercase\n",
        "def cleanedup_word(word):\n",
        "    cleanup_word = word.strip('.,!?:;\"\\'').lower()\n",
        "    return cleanup_word\n",
        "\n",
        "#Split sentence into words\n",
        "def count_word_freq(sentence):\n",
        "    words = sentence.split()\n",
        "\n",
        "    #Create an empty dictionary to store word frequencies\n",
        "    word_freq = {}\n",
        "\n",
        "    #Iterate through each word in the list\n",
        "    for word in words:\n",
        "        #Clean the word (remove punctuation and convert to lowercase)\n",
        "        cleanup_word = cleanedup_word(word)\n",
        "\n",
        "        #Update the word frequency in the dictionary\n",
        "        if cleanup_word in word_freq:\n",
        "            word_freq[cleanup_word] += 1\n",
        "        else:\n",
        "            word_freq[cleanup_word] = 1\n",
        "\n",
        "    #Return the final word frequency dictionary\n",
        "    return word_freq\n",
        "\n",
        "#Get a sentence from the user\n",
        "user_text = input(\"Enter a sentence: \")\n",
        "\n",
        "#Call the function and print the result\n",
        "result = count_word_freq(user_text)\n",
        "print(\"Word frequency counts:\", result)\n",
        "\n"
      ]
    }
  ]
}