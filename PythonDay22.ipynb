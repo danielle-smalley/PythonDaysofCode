{
  "nbformat": 4,
  "nbformat_minor": 0,
  "metadata": {
    "colab": {
      "provenance": [],
      "authorship_tag": "ABX9TyO6RIpyXnHjnjvsRRRU4RUN",
      "include_colab_link": true
    },
    "kernelspec": {
      "name": "python3",
      "display_name": "Python 3"
    },
    "language_info": {
      "name": "python"
    }
  },
  "cells": [
    {
      "cell_type": "markdown",
      "metadata": {
        "id": "view-in-github",
        "colab_type": "text"
      },
      "source": [
        "<a href=\"https://colab.research.google.com/github/danielle-smalley/PythonDaysofCode/blob/main/PythonDay22.ipynb\" target=\"_parent\"><img src=\"https://colab.research.google.com/assets/colab-badge.svg\" alt=\"Open In Colab\"/></a>"
      ]
    },
    {
      "cell_type": "code",
      "execution_count": 5,
      "metadata": {
        "colab": {
          "base_uri": "https://localhost:8080/"
        },
        "id": "MGgMRQXMz4uM",
        "outputId": "04cc42ea-5b22-4066-90dd-44a90b21c6c8"
      },
      "outputs": [
        {
          "output_type": "stream",
          "name": "stdout",
          "text": [
            "Enter a list of numbers separated by commas: 4, 5, 6, 600, -2\n",
            "The second largest number in your list is: 6\n"
          ]
        }
      ],
      "source": [
        "#Create a program to find the second-largest element in a list.\n",
        "\n",
        "def find_second_largest(user_list):\n",
        "    if len(user_list) < 2:\n",
        "        print(\"Your list should have at least two numbers.\")\n",
        "        return None\n",
        "\n",
        "    #Sort the list in desc order\n",
        "    sorted_list = sorted(user_list, reverse=True)\n",
        "\n",
        "    #Get the second-largest element (index 1 in the sorted list)\n",
        "    second_largest = sorted_list[1]\n",
        "\n",
        "    #Return the result\n",
        "    return second_largest\n",
        "\n",
        "#Get input from the user for the list of numbers\n",
        "user_input = input(\"Enter a list of numbers separated by commas: \")\n",
        "\n",
        "#Convert the user input into a list of integers\n",
        "user_list = [int(x) for x in user_input.split(',')]\n",
        "\n",
        "#Call the function to find the second-largest element\n",
        "result = find_second_largest(user_list)\n",
        "\n",
        "#Print the result\n",
        "if result is not None:\n",
        "    print(\"The second largest number in your list is:\", result)\n"
      ]
    }
  ]
}