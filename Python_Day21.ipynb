{
  "nbformat": 4,
  "nbformat_minor": 0,
  "metadata": {
    "colab": {
      "provenance": [],
      "authorship_tag": "ABX9TyMLiKJscA3H1joseLtTVdbG",
      "include_colab_link": true
    },
    "kernelspec": {
      "name": "python3",
      "display_name": "Python 3"
    },
    "language_info": {
      "name": "python"
    }
  },
  "cells": [
    {
      "cell_type": "markdown",
      "metadata": {
        "id": "view-in-github",
        "colab_type": "text"
      },
      "source": [
        "<a href=\"https://colab.research.google.com/github/danielle-smalley/PythonDaysofCode/blob/main/Python_Day21.ipynb\" target=\"_parent\"><img src=\"https://colab.research.google.com/assets/colab-badge.svg\" alt=\"Open In Colab\"/></a>"
      ]
    },
    {
      "cell_type": "code",
      "execution_count": 4,
      "metadata": {
        "colab": {
          "base_uri": "https://localhost:8080/"
        },
        "id": "OOn0X_5lP_uI",
        "outputId": "f456c1a3-2b19-41dd-a6d0-98da14dbbc2d"
      },
      "outputs": [
        {
          "output_type": "stream",
          "name": "stdout",
          "text": [
            "Please enter a set of elements (items, numbers, whatever you'd like) separated by commas: 1,2,elephant,cat,banana\n",
            "Which element/item/number would you like to remove?: 1\n",
            "1 has been yeeted from the set.\n",
            "Here is your updated set of items/elements/numbers:  {'2', 'cat', 'banana', 'elephant'}\n"
          ]
        }
      ],
      "source": [
        "#Create a program to remove a specific element from a set.\n",
        "\n",
        "def remove_element(input_set, element_to_remove):\n",
        "    if element_to_remove in input_set:\n",
        "        input_set.remove(element_to_remove)\n",
        "        print(f\"{element_to_remove} has been yeeted from the set.\")\n",
        "    else:\n",
        "        print(f\"{element_to_remove} was not found in the set.\")\n",
        "\n",
        "#Get input from the user for the set of elements\n",
        "user_input = input(\"Please enter a set of elements (items, numbers, whatever you'd like) separated by commas: \")\n",
        "\n",
        "#Convert the user input into a set\n",
        "user_set = set(user_input.split(','))\n",
        "\n",
        "#Get the element to be removed from the user\n",
        "element_to_remove = input(\"Which element/item/number would you like to remove?: \")\n",
        "\n",
        "#Call the function to remove the element\n",
        "remove_element(user_set, element_to_remove)\n",
        "\n",
        "#Print the updated set\n",
        "print(\"Here is your updated set of items/elements/numbers: \", user_set)\n"
      ]
    }
  ]
}