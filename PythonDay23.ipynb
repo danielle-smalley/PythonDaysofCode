{
  "nbformat": 4,
  "nbformat_minor": 0,
  "metadata": {
    "colab": {
      "provenance": [],
      "authorship_tag": "ABX9TyN71TgTwJSVQhdWuUPMBv7c",
      "include_colab_link": true
    },
    "kernelspec": {
      "name": "python3",
      "display_name": "Python 3"
    },
    "language_info": {
      "name": "python"
    }
  },
  "cells": [
    {
      "cell_type": "markdown",
      "metadata": {
        "id": "view-in-github",
        "colab_type": "text"
      },
      "source": [
        "<a href=\"https://colab.research.google.com/github/danielle-smalley/PythonDaysofCode/blob/main/PythonDay23.ipynb\" target=\"_parent\"><img src=\"https://colab.research.google.com/assets/colab-badge.svg\" alt=\"Open In Colab\"/></a>"
      ]
    },
    {
      "cell_type": "code",
      "execution_count": 4,
      "metadata": {
        "colab": {
          "base_uri": "https://localhost:8080/"
        },
        "id": "u1lOEj765stq",
        "outputId": "d0ea6f7b-de94-41a0-db97-4069ec0d14a7"
      },
      "outputs": [
        {
          "output_type": "stream",
          "name": "stdout",
          "text": [
            "None\n"
          ]
        }
      ],
      "source": [
        "#Write a program that checks if a key exists in a dictionary.\n",
        "\n",
        "def key_exists(dict_list, key):\n",
        "\n",
        "    if key in dict_list:\n",
        "        return dict_list[key]\n",
        "\n",
        "print(key_exists({\"key1\": 1,\"key2\": 2,\"key3\": 3},\"key5\"))"
      ]
    }
  ]
}