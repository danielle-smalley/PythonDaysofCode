{
  "nbformat": 4,
  "nbformat_minor": 0,
  "metadata": {
    "colab": {
      "provenance": [],
      "authorship_tag": "ABX9TyMhmAN4yZ+TIKKuq1+oFpTz",
      "include_colab_link": true
    },
    "kernelspec": {
      "name": "python3",
      "display_name": "Python 3"
    },
    "language_info": {
      "name": "python"
    }
  },
  "cells": [
    {
      "cell_type": "markdown",
      "metadata": {
        "id": "view-in-github",
        "colab_type": "text"
      },
      "source": [
        "<a href=\"https://colab.research.google.com/github/danielle-smalley/PythonDaysofCode/blob/main/Python_Day18.ipynb\" target=\"_parent\"><img src=\"https://colab.research.google.com/assets/colab-badge.svg\" alt=\"Open In Colab\"/></a>"
      ]
    },
    {
      "cell_type": "code",
      "execution_count": 6,
      "metadata": {
        "colab": {
          "base_uri": "https://localhost:8080/"
        },
        "id": "Gn03IiyXg8g_",
        "outputId": "85b4c430-64e1-48cf-f7a1-45dce3318200"
      },
      "outputs": [
        {
          "output_type": "stream",
          "name": "stdout",
          "text": [
            "Please enter your first number: -5\n",
            "Please enter your second number: 500\n",
            "Please enter your third number: .55\n",
            "The largest number is:  500.0\n"
          ]
        }
      ],
      "source": [
        "#Create a program to find the largest among three numbers.\n",
        "\n",
        "def find_biggestest_number(n1, n2, n3):\n",
        "    #Use max function to find the largest number\n",
        "    biggestest_number = max(n1, n2, n3)\n",
        "    return biggestest_number\n",
        "\n",
        "#User to input 3 numbers\n",
        "n1 = float(input(\"Please enter your first number: \"))\n",
        "n2 = float(input(\"Please enter your second number: \"))\n",
        "n3 = float(input(\"Please enter your third number: \"))\n",
        "\n",
        "# Call the function and print the result\n",
        "result = find_biggestest_number(n1, n2, n3)\n",
        "print(\"The largest number is: \", result)\n"
      ]
    }
  ]
}