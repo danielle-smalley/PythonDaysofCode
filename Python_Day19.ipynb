{
  "nbformat": 4,
  "nbformat_minor": 0,
  "metadata": {
    "colab": {
      "provenance": [],
      "authorship_tag": "ABX9TyPk0gvmN5u5aHEr6vU4U1AI",
      "include_colab_link": true
    },
    "kernelspec": {
      "name": "python3",
      "display_name": "Python 3"
    },
    "language_info": {
      "name": "python"
    }
  },
  "cells": [
    {
      "cell_type": "markdown",
      "metadata": {
        "id": "view-in-github",
        "colab_type": "text"
      },
      "source": [
        "<a href=\"https://colab.research.google.com/github/danielle-smalley/PythonDaysofCode/blob/main/Python_Day19.ipynb\" target=\"_parent\"><img src=\"https://colab.research.google.com/assets/colab-badge.svg\" alt=\"Open In Colab\"/></a>"
      ]
    },
    {
      "cell_type": "code",
      "execution_count": 6,
      "metadata": {
        "colab": {
          "base_uri": "https://localhost:8080/"
        },
        "id": "2XclXLNHiFUl",
        "outputId": "31ead345-b962-4310-9cbd-40ad4d800ecf"
      },
      "outputs": [
        {
          "output_type": "stream",
          "name": "stdout",
          "text": [
            "Please enter a non-negative whole number: 8\n",
            "The factorial of 8 is: 40320\n"
          ]
        }
      ],
      "source": [
        "#Write a function to calculate the factorial of a number.\n",
        "\n",
        "#First off, what the heck are factorials?\n",
        "# The factorial of a non-negative integer, denoted by n!, is the product of all positive integers less than or equal to n. It is defined as follows:\n",
        "# n! = n×(n−1)×(n−2)×…×3×2×1\n",
        "# By convention, the factorial of 0 is defined to be 1. So, 0! = 1\n",
        "# 5! = 5×4×3×2×1=120\n",
        "# 4!= 4×3×2×1=24\n",
        "# etc.\n",
        "\n",
        "\n",
        "def calculate_factorial(n):\n",
        "    #Base case: factorial of 0 is 1\n",
        "    if n == 0:\n",
        "        return 1\n",
        "    #Recursive case: n! = n * (n-1)!\n",
        "    else:\n",
        "        return n * calculate_factorial(n - 1)\n",
        "\n",
        "#User to input number\n",
        "user_num = int(input(\"Please enter a non-negative whole number: \"))\n",
        "\n",
        "# Call function, print result\n",
        "result = calculate_factorial(user_num)\n",
        "print(f\"The factorial of {user_num} is: {result}\")\n"
      ]
    },
    {
      "cell_type": "code",
      "source": [],
      "metadata": {
        "id": "43x8eG9Bi-iq"
      },
      "execution_count": null,
      "outputs": []
    }
  ]
}