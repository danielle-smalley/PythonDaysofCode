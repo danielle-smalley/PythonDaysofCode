{
  "nbformat": 4,
  "nbformat_minor": 0,
  "metadata": {
    "colab": {
      "provenance": [],
      "authorship_tag": "ABX9TyOoM7N9G6P1SzaTe+dTXvY/",
      "include_colab_link": true
    },
    "kernelspec": {
      "name": "python3",
      "display_name": "Python 3"
    },
    "language_info": {
      "name": "python"
    }
  },
  "cells": [
    {
      "cell_type": "markdown",
      "metadata": {
        "id": "view-in-github",
        "colab_type": "text"
      },
      "source": [
        "<a href=\"https://colab.research.google.com/github/danielle-smalley/PythonDaysofCode/blob/main/Python_Day6.ipynb\" target=\"_parent\"><img src=\"https://colab.research.google.com/assets/colab-badge.svg\" alt=\"Open In Colab\"/></a>"
      ]
    },
    {
      "cell_type": "code",
      "execution_count": 7,
      "metadata": {
        "colab": {
          "base_uri": "https://localhost:8080/"
        },
        "id": "_aXbLBDnXcoL",
        "outputId": "d99ea3a1-1d42-4fe0-f6d7-53147188ee80"
      },
      "outputs": [
        {
          "output_type": "stream",
          "name": "stdout",
          "text": [
            "Please enter some text: Here is some text for you to ingest, I like the number 8\n",
            "What character would you like me to count in your text?: e\n",
            "The character 'e' occurs 8 times in the text you gave me!\n"
          ]
        }
      ],
      "source": [
        "#Write a program to count the occurrences of a specific character in a string.\n",
        "\n",
        "def count_occurrences(user_string, chosen_character):\n",
        "    count = 0\n",
        "    for char in user_string:\n",
        "        if char == chosen_character:\n",
        "            count += 1\n",
        "    return count\n",
        "\n",
        "# Get user input\n",
        "user_string = input(\"Please enter some text: \")\n",
        "chosen_character = input(\"What character would you like me to count in your text?: \")\n",
        "\n",
        "# Call the function and display the result\n",
        "result = count_occurrences(user_string, chosen_character)\n",
        "print(f\"The character '{chosen_character}' occurs {result} times in the text you gave me!\")\n",
        "\n"
      ]
    }
  ]
}