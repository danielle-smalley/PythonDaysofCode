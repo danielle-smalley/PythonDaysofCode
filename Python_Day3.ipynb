{
  "nbformat": 4,
  "nbformat_minor": 0,
  "metadata": {
    "colab": {
      "provenance": [],
      "authorship_tag": "ABX9TyOYaj7w/vJWRgrteLNUZMz4",
      "include_colab_link": true
    },
    "kernelspec": {
      "name": "python3",
      "display_name": "Python 3"
    },
    "language_info": {
      "name": "python"
    }
  },
  "cells": [
    {
      "cell_type": "markdown",
      "metadata": {
        "id": "view-in-github",
        "colab_type": "text"
      },
      "source": [
        "<a href=\"https://colab.research.google.com/github/danielle-smalley/PythonDaysofCode/blob/main/Python_Day3.ipynb\" target=\"_parent\"><img src=\"https://colab.research.google.com/assets/colab-badge.svg\" alt=\"Open In Colab\"/></a>"
      ]
    },
    {
      "cell_type": "code",
      "execution_count": 11,
      "metadata": {
        "colab": {
          "base_uri": "https://localhost:8080/"
        },
        "id": "kbkBZGew3ure",
        "outputId": "2b32e8a6-9037-4ac3-d4f1-3a7ea72774db"
      },
      "outputs": [
        {
          "output_type": "stream",
          "name": "stdout",
          "text": [
            "I'm hungry. Feed me some text and I'll do a trick for you...!\n",
            "hey it would be mighty convenient if you could tally up the vowels in this here sentence, partner\n",
            "*Burp*\n",
            "Wow, there are 29 vowels in the string you fed me!\n"
          ]
        }
      ],
      "source": [
        "#Write a function to count the number of vowels in a given string\n",
        "\n",
        "#get the user's string:\n",
        "given_string = input(\"I'm hungry. Feed me some text and I'll do a trick for you...!\\n\")\n",
        "\n",
        "#define our vowels:\n",
        "vowels = ('a', 'e', 'i', 'o', 'u')\n",
        "\n",
        "#initialize a counter:\n",
        "count = 0\n",
        "\n",
        "#iterate through each character in the user's input string\n",
        "#and increase the count each time a vowel is detected\n",
        "for i in range(len(given_string)):\n",
        "    if given_string[i] in vowels:\n",
        "        count += 1\n",
        "\n",
        "#output:\n",
        "print(f\"*Burp*\\nWow, there are {count} vowels in the string you fed me!\")"
      ]
    }
  ]
}