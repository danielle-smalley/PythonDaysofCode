{
  "nbformat": 4,
  "nbformat_minor": 0,
  "metadata": {
    "colab": {
      "provenance": [],
      "authorship_tag": "ABX9TyN5uhykCn0dIg4FqOTXCA93",
      "include_colab_link": true
    },
    "kernelspec": {
      "name": "python3",
      "display_name": "Python 3"
    },
    "language_info": {
      "name": "python"
    }
  },
  "cells": [
    {
      "cell_type": "markdown",
      "metadata": {
        "id": "view-in-github",
        "colab_type": "text"
      },
      "source": [
        "<a href=\"https://colab.research.google.com/github/danielle-smalley/PythonDaysofCode/blob/main/PythonDaysofCode_Day2.ipynb\" target=\"_parent\"><img src=\"https://colab.research.google.com/assets/colab-badge.svg\" alt=\"Open In Colab\"/></a>"
      ]
    },
    {
      "cell_type": "code",
      "execution_count": 6,
      "metadata": {
        "colab": {
          "base_uri": "https://localhost:8080/"
        },
        "id": "xG-kYoylBChZ",
        "outputId": "4ddae4f0-ddd1-47c1-c9f8-01a47ea9ec37"
      },
      "outputs": [
        {
          "output_type": "stream",
          "name": "stdout",
          "text": [
            "Please provide the radius of your circle: 3\n",
            "\n",
            "Your circle with a radius of 3.0 has an area of 28.274333882308138.\n"
          ]
        }
      ],
      "source": [
        "#Create a program to calculate the area of a circle given its radius.\n",
        "\n",
        "#we need math:\n",
        "import math\n",
        "\n",
        "#make the function that passes in radius:\n",
        "def calculate_area(radius):\n",
        "\n",
        "    return (math.pi) * (radius**2)\n",
        "\n",
        "#assign radius the value of the input:\n",
        "radius = float(input(\"Please provide the radius of your circle: \"))\n",
        "\n",
        "#calculation for area using our function with passed in parameter of radius:\n",
        "area = calculate_area(radius)\n",
        "\n",
        "#output:\n",
        "print(f\"\\nYour circle with a radius of {radius} has an area of {area}.\")"
      ]
    },
    {
      "cell_type": "code",
      "source": [],
      "metadata": {
        "id": "bLNBRSgmBGyf"
      },
      "execution_count": 1,
      "outputs": []
    }
  ]
}