{
  "nbformat": 4,
  "nbformat_minor": 0,
  "metadata": {
    "colab": {
      "provenance": [],
      "authorship_tag": "ABX9TyNAAHxmDcg2G9Xy/3Xcu3bA",
      "include_colab_link": true
    },
    "kernelspec": {
      "name": "python3",
      "display_name": "Python 3"
    },
    "language_info": {
      "name": "python"
    }
  },
  "cells": [
    {
      "cell_type": "markdown",
      "metadata": {
        "id": "view-in-github",
        "colab_type": "text"
      },
      "source": [
        "<a href=\"https://colab.research.google.com/github/danielle-smalley/PythonDaysofCode/blob/main/Python_Day15.ipynb\" target=\"_parent\"><img src=\"https://colab.research.google.com/assets/colab-badge.svg\" alt=\"Open In Colab\"/></a>"
      ]
    },
    {
      "cell_type": "code",
      "execution_count": 7,
      "metadata": {
        "colab": {
          "base_uri": "https://localhost:8080/"
        },
        "id": "0oXLfB15Y0H3",
        "outputId": "641f5160-9c07-4ddb-94ed-c9b760d9f010"
      },
      "outputs": [
        {
          "output_type": "stream",
          "name": "stdout",
          "text": [
            "Please enter a year in YYYY format and I will tell you if it is a leap year: 2000\n",
            "2000 is a leap year! :) \n"
          ]
        }
      ],
      "source": [
        "#Create a program that checks if a year is a leap year.\n",
        "\n",
        "#Some notes about leap years:\n",
        "#Not every four years is a leap year.\n",
        "#The rule is that if the year is divisible by 100 and not divisible by 400, leap year is skipped.\n",
        "#Example: The year 2000 was a leap year, but the years 1700, 1800, and 1900 were not.\n",
        "\n",
        "\n",
        "year_to_check = int(input(\"Please enter a year in YYYY format and I will tell you if it is a leap year: \"))\n",
        "\n",
        "def is_leap_year(year_to_check):\n",
        "    if (year_to_check % 4 == 0 and year_to_check % 100 != 0) or (year_to_check % 400 == 0):\n",
        "        return True\n",
        "    else:\n",
        "        return False\n",
        "\n",
        "if is_leap_year(year_to_check):\n",
        "    print(f\"{year_to_check} is a leap year! :) \")\n",
        "else:\n",
        "    print(f\"{year_to_check} is not a leap year :( )\")"
      ]
    }
  ]
}