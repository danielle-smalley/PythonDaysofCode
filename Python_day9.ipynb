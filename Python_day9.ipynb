{
  "nbformat": 4,
  "nbformat_minor": 0,
  "metadata": {
    "colab": {
      "provenance": [],
      "authorship_tag": "ABX9TyOkEUuI5GifXN4LVrWIS1r5",
      "include_colab_link": true
    },
    "kernelspec": {
      "name": "python3",
      "display_name": "Python 3"
    },
    "language_info": {
      "name": "python"
    }
  },
  "cells": [
    {
      "cell_type": "markdown",
      "metadata": {
        "id": "view-in-github",
        "colab_type": "text"
      },
      "source": [
        "<a href=\"https://colab.research.google.com/github/danielle-smalley/PythonDaysofCode/blob/main/Python_day9.ipynb\" target=\"_parent\"><img src=\"https://colab.research.google.com/assets/colab-badge.svg\" alt=\"Open In Colab\"/></a>"
      ]
    },
    {
      "cell_type": "code",
      "execution_count": 7,
      "metadata": {
        "colab": {
          "base_uri": "https://localhost:8080/"
        },
        "id": "wEwSQCYbQms2",
        "outputId": "681c2a1a-a2ac-4e66-bf76-95f36230ce4a"
      },
      "outputs": [
        {
          "output_type": "stream",
          "name": "stdout",
          "text": [
            "Please enter a whole number (numbers only): 502\n",
            "Your number, 502, is even.\n"
          ]
        }
      ],
      "source": [
        "#Write a program to check if a number is even or odd.\n",
        "\n",
        "# Get user input\n",
        "user_number = input(\"Please enter a whole number (numbers only): \")\n",
        "number = int(user_number)\n",
        "\n",
        "# Check if the number is even or odd\n",
        "if number % 2 == 0:\n",
        "    print(f\"Your number, {number}, is even.\")\n",
        "else:\n",
        "    print(f\"Your number, {number}, is odd.\")\n"
      ]
    }
  ]
}