{
  "nbformat": 4,
  "nbformat_minor": 0,
  "metadata": {
    "colab": {
      "provenance": [],
      "authorship_tag": "ABX9TyOQ0LBYT+ACPpAwDkrUtl++",
      "include_colab_link": true
    },
    "kernelspec": {
      "name": "python3",
      "display_name": "Python 3"
    },
    "language_info": {
      "name": "python"
    }
  },
  "cells": [
    {
      "cell_type": "markdown",
      "metadata": {
        "id": "view-in-github",
        "colab_type": "text"
      },
      "source": [
        "<a href=\"https://colab.research.google.com/github/danielle-smalley/PythonDaysofCode/blob/main/Python_Day12.ipynb\" target=\"_parent\"><img src=\"https://colab.research.google.com/assets/colab-badge.svg\" alt=\"Open In Colab\"/></a>"
      ]
    },
    {
      "cell_type": "code",
      "execution_count": 2,
      "metadata": {
        "colab": {
          "base_uri": "https://localhost:8080/"
        },
        "id": "zTVwLMqgYCQz",
        "outputId": "afb9c83e-fe64-464b-92fd-f09cf5562e26"
      },
      "outputs": [
        {
          "output_type": "stream",
          "name": "stdout",
          "text": [
            "Please enter some text and I'll say it backwards!: I put my thing down flip it and reverse it\n",
            "Alright, here we go:  ti esrever dna ti pilf nwod gniht ym tup I\n"
          ]
        }
      ],
      "source": [
        "#Write a program to reverse a given string.\n",
        "\n",
        "# Get string from user\n",
        "user_input = input(\"Please enter some text and I'll say it backwards!: \")\n",
        "\n",
        "# Initialize an empty string to store the reversed string\n",
        "reversed_string = \"\"\n",
        "\n",
        "# Iterate through the characters of the string in reverse order\n",
        "for char in reversed(user_input):\n",
        "    # Append each character to the reversed string\n",
        "    reversed_string += char\n",
        "\n",
        "# Print the result\n",
        "print(\"Alright, here we go: \", reversed_string)\n"
      ]
    },
    {
      "cell_type": "code",
      "source": [],
      "metadata": {
        "id": "_vJoB8IqYE7l"
      },
      "execution_count": 1,
      "outputs": []
    }
  ]
}