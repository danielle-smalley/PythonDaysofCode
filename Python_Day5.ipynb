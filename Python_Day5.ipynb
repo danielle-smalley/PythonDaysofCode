{
  "nbformat": 4,
  "nbformat_minor": 0,
  "metadata": {
    "colab": {
      "provenance": [],
      "authorship_tag": "ABX9TyNLjVBMY0CmzAzaez83Mkql",
      "include_colab_link": true
    },
    "kernelspec": {
      "name": "python3",
      "display_name": "Python 3"
    },
    "language_info": {
      "name": "python"
    }
  },
  "cells": [
    {
      "cell_type": "markdown",
      "metadata": {
        "id": "view-in-github",
        "colab_type": "text"
      },
      "source": [
        "<a href=\"https://colab.research.google.com/github/danielle-smalley/PythonDaysofCode/blob/main/Python_Day5.ipynb\" target=\"_parent\"><img src=\"https://colab.research.google.com/assets/colab-badge.svg\" alt=\"Open In Colab\"/></a>"
      ]
    },
    {
      "cell_type": "code",
      "execution_count": 5,
      "metadata": {
        "colab": {
          "base_uri": "https://localhost:8080/"
        },
        "id": "T9Es2b8_MTcN",
        "outputId": "12601edc-91b9-4b03-e42a-0ac8c3b3f2a2"
      },
      "outputs": [
        {
          "output_type": "stream",
          "name": "stdout",
          "text": [
            "Enter a list of numbers separated by commas: 1, 3, -5, 10\n",
            "The highest value in your list is:  10\n",
            "The lowest value in your list is:  -5\n"
          ]
        }
      ],
      "source": [
        "#Write a program to find the maximum and minimum values in a list.\n",
        "\n",
        "#create our functions to get the max and min, with the parameter being the elements passed in from  user\n",
        "def get_max(elements):\n",
        "  return max(elements)\n",
        "\n",
        "def get_min(elements):\n",
        "  return min(elements)\n",
        "\n",
        "# Get user input for the list\n",
        "user_list = input(\"Enter a list of numbers separated by commas: \")\n",
        "\n",
        "# Convert the user input to a list of integers\n",
        "cleaned_up_list = [int(num) for num in user_list.split(',')]\n",
        "\n",
        "# Calculate the max and min using the functions\n",
        "max_value = get_max(cleaned_up_list)\n",
        "min_value = get_min(cleaned_up_list)\n",
        "\n",
        "# Print the max and min of the elements\n",
        "print(\"The highest value in your list is: \", max_value)\n",
        "print(\"The lowest value in your list is: \", min_value)"
      ]
    }
  ]
}