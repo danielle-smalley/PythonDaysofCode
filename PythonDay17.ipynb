{
  "nbformat": 4,
  "nbformat_minor": 0,
  "metadata": {
    "colab": {
      "provenance": [],
      "authorship_tag": "ABX9TyO5X1ZEGWNKzVDxu5kjQX/K",
      "include_colab_link": true
    },
    "kernelspec": {
      "name": "python3",
      "display_name": "Python 3"
    },
    "language_info": {
      "name": "python"
    }
  },
  "cells": [
    {
      "cell_type": "markdown",
      "metadata": {
        "id": "view-in-github",
        "colab_type": "text"
      },
      "source": [
        "<a href=\"https://colab.research.google.com/github/danielle-smalley/PythonDaysofCode/blob/main/PythonDay17.ipynb\" target=\"_parent\"><img src=\"https://colab.research.google.com/assets/colab-badge.svg\" alt=\"Open In Colab\"/></a>"
      ]
    },
    {
      "cell_type": "code",
      "execution_count": 1,
      "metadata": {
        "colab": {
          "base_uri": "https://localhost:8080/"
        },
        "id": "r2YFdWBngBv0",
        "outputId": "fe5b8fa8-4c87-4e95-ba53-80b7805ba328"
      },
      "outputs": [
        {
          "output_type": "stream",
          "name": "stdout",
          "text": [
            "Please enter a sentence: hello this is a sentence please do something Cool WITH IT\n",
            "Your new sentence with each word capitalized:  Hello This Is A Sentence Please Do Something Cool With It\n"
          ]
        }
      ],
      "source": [
        "#Create a program that capitalizes the first letter of each word in a sentence\n",
        "\n",
        "def cap_first_letter(sentence):\n",
        "    #Split sentence into words\n",
        "    words = sentence.split()\n",
        "\n",
        "    #Capitalize first letter of each word\n",
        "    cap_words = [word.capitalize() for word in words]\n",
        "\n",
        "    #Join the words back into a sentence\n",
        "    cap_sentence = ' '.join(cap_words)\n",
        "\n",
        "    return cap_sentence\n",
        "\n",
        "# Get a sentence from the user\n",
        "user_input = input(\"Please enter a sentence: \")\n",
        "\n",
        "# Call the function and print the result\n",
        "result = cap_first_letter(user_input)\n",
        "print(\"Your new sentence with each word capitalized: \", result)"
      ]
    }
  ]
}