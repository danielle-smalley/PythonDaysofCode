{
  "nbformat": 4,
  "nbformat_minor": 0,
  "metadata": {
    "colab": {
      "provenance": [],
      "authorship_tag": "ABX9TyPBxN6bAIjxyL+Vc4J5gL8f",
      "include_colab_link": true
    },
    "kernelspec": {
      "name": "python3",
      "display_name": "Python 3"
    },
    "language_info": {
      "name": "python"
    }
  },
  "cells": [
    {
      "cell_type": "markdown",
      "metadata": {
        "id": "view-in-github",
        "colab_type": "text"
      },
      "source": [
        "<a href=\"https://colab.research.google.com/github/danielle-smalley/PythonDaysofCode/blob/main/Python_Day20.ipynb\" target=\"_parent\"><img src=\"https://colab.research.google.com/assets/colab-badge.svg\" alt=\"Open In Colab\"/></a>"
      ]
    },
    {
      "cell_type": "code",
      "execution_count": 2,
      "metadata": {
        "colab": {
          "base_uri": "https://localhost:8080/"
        },
        "id": "4h-_l3tHkklN",
        "outputId": "ab401d08-c7a9-4802-caab-dc5c2b34c52d"
      },
      "outputs": [
        {
          "output_type": "stream",
          "name": "stdout",
          "text": [
            "Please enter a list of numbers separated by commas: 3, 5, 700, 88, 32, -2, 0, 5\n",
            "Here are only the even numbers from your list:  [700, 88, 32, -2, 0]\n"
          ]
        }
      ],
      "source": [
        "#Write a function that takes a list of numbers and returns a new list containing only the even numbers\n",
        "\n",
        "#Check if a number is even\n",
        "def is_even(number):\n",
        "    return number % 2 == 0\n",
        "\n",
        "def get_even_numbers(numbers):\n",
        "    #Create an empty list to store even numbers\n",
        "    even_numbers = []\n",
        "\n",
        "    #Iterate through each number in the input list\n",
        "    for num in numbers:\n",
        "        #Check if the number is even using the is_even function\n",
        "        if is_even(num):\n",
        "            #If even, add it to the even_numbers list\n",
        "            even_numbers.append(num)\n",
        "\n",
        "    #Return the list of even numbers\n",
        "    return even_numbers\n",
        "\n",
        "#User to provide list of numbers\n",
        "user_input = input(\"Please enter a list of numbers separated by commas: \")\n",
        "\n",
        "#Convert the input to ints\n",
        "numbers_list = [int(num) for num in user_input.split(',')]\n",
        "\n",
        "#Call function, print the result\n",
        "result = get_even_numbers(numbers_list)\n",
        "print(\"Here are only the even numbers from your list: \", result)\n"
      ]
    }
  ]
}