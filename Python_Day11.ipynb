{
  "nbformat": 4,
  "nbformat_minor": 0,
  "metadata": {
    "colab": {
      "provenance": [],
      "authorship_tag": "ABX9TyONwfLX0LjKFFeQb1U7DHmW",
      "include_colab_link": true
    },
    "kernelspec": {
      "name": "python3",
      "display_name": "Python 3"
    },
    "language_info": {
      "name": "python"
    }
  },
  "cells": [
    {
      "cell_type": "markdown",
      "metadata": {
        "id": "view-in-github",
        "colab_type": "text"
      },
      "source": [
        "<a href=\"https://colab.research.google.com/github/danielle-smalley/PythonDaysofCode/blob/main/Python_Day11.ipynb\" target=\"_parent\"><img src=\"https://colab.research.google.com/assets/colab-badge.svg\" alt=\"Open In Colab\"/></a>"
      ]
    },
    {
      "cell_type": "code",
      "execution_count": 3,
      "metadata": {
        "colab": {
          "base_uri": "https://localhost:8080/"
        },
        "id": "fQwEDI4rW2wo",
        "outputId": "0f22f15e-da32-4820-e796-f7a908926e85"
      },
      "outputs": [
        {
          "output_type": "stream",
          "name": "stdout",
          "text": [
            "Enter a number to get the multiplication table: 888\n",
            "Here's your multiplication table of 888:\n",
            "888 x 0 = 0\n",
            "888 x 1 = 888\n",
            "888 x 2 = 1776\n",
            "888 x 3 = 2664\n",
            "888 x 4 = 3552\n",
            "888 x 5 = 4440\n",
            "888 x 6 = 5328\n",
            "888 x 7 = 6216\n",
            "888 x 8 = 7104\n",
            "888 x 9 = 7992\n",
            "888 x 10 = 8880\n",
            "888 x 11 = 9768\n",
            "888 x 12 = 10656\n"
          ]
        }
      ],
      "source": [
        "#Write a program to print the multiplication table of a given number.\n",
        "\n",
        "# Get user input for the number\n",
        "user_input = input(\"Enter a number to get the multiplication table: \")\n",
        "\n",
        "# Convert the input to an integer\n",
        "number = int(user_input)\n",
        "\n",
        "# Print the multiplication table\n",
        "print(f\"Here's your multiplication table of {number}:\")\n",
        "\n",
        "for i in range(0, 13):\n",
        "    result = number * i\n",
        "    print(f\"{number} x {i} = {result}\")\n"
      ]
    }
  ]
}