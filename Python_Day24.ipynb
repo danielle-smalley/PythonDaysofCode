{
  "nbformat": 4,
  "nbformat_minor": 0,
  "metadata": {
    "colab": {
      "provenance": [],
      "authorship_tag": "ABX9TyP24KWFJMppQOHtEA093p1C",
      "include_colab_link": true
    },
    "kernelspec": {
      "name": "python3",
      "display_name": "Python 3"
    },
    "language_info": {
      "name": "python"
    }
  },
  "cells": [
    {
      "cell_type": "markdown",
      "metadata": {
        "id": "view-in-github",
        "colab_type": "text"
      },
      "source": [
        "<a href=\"https://colab.research.google.com/github/danielle-smalley/PythonDaysofCode/blob/main/Python_Day24.ipynb\" target=\"_parent\"><img src=\"https://colab.research.google.com/assets/colab-badge.svg\" alt=\"Open In Colab\"/></a>"
      ]
    },
    {
      "cell_type": "code",
      "execution_count": 1,
      "metadata": {
        "colab": {
          "base_uri": "https://localhost:8080/"
        },
        "id": "mpjZ79qfP_V_",
        "outputId": "c5abfeea-cc38-4f89-d4e5-91e766d6d229"
      },
      "outputs": [
        {
          "output_type": "stream",
          "name": "stdout",
          "text": [
            "Please enter a sentence: Hello, this is a string. Let's see what happens.\n",
            "Ope, no more vowels! Look:  Hll, ths s  strng. Lt's s wht hppns.\n"
          ]
        }
      ],
      "source": [
        "#Write a program to remove vowels from a given string.\n",
        "\n",
        "#Define the function, vowels, and replace them with '' to remove\n",
        "def yeet_vowels(user_string):\n",
        "    vowels = \"aeiouAEIOU\"\n",
        "    result_string = ''.join(char for char in user_string if char not in vowels)\n",
        "    return result_string\n",
        "\n",
        "#Get user's string\n",
        "user_input = input(\"Please enter a sentence: \")\n",
        "\n",
        "# Call the function to remove vowels\n",
        "result = yeet_vowels(user_input)\n",
        "\n",
        "# Print the result\n",
        "print(\"Ope, no more vowels! Look: \", result)"
      ]
    }
  ]
}