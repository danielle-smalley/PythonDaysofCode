{
  "nbformat": 4,
  "nbformat_minor": 0,
  "metadata": {
    "colab": {
      "provenance": [],
      "authorship_tag": "ABX9TyMSnWGmJHWtYz2N8zeytH2/",
      "include_colab_link": true
    },
    "kernelspec": {
      "name": "python3",
      "display_name": "Python 3"
    },
    "language_info": {
      "name": "python"
    }
  },
  "cells": [
    {
      "cell_type": "markdown",
      "metadata": {
        "id": "view-in-github",
        "colab_type": "text"
      },
      "source": [
        "<a href=\"https://colab.research.google.com/github/danielle-smalley/PythonDaysofCode/blob/main/Python_Day10.ipynb\" target=\"_parent\"><img src=\"https://colab.research.google.com/assets/colab-badge.svg\" alt=\"Open In Colab\"/></a>"
      ]
    },
    {
      "cell_type": "code",
      "execution_count": 2,
      "metadata": {
        "colab": {
          "base_uri": "https://localhost:8080/"
        },
        "id": "1mDdtFyuS4gh",
        "outputId": "7665125a-d9fa-45ed-bfc3-59796ab88d08"
      },
      "outputs": [
        {
          "output_type": "stream",
          "name": "stdout",
          "text": [
            "Please enter a list of numbers separated by commas: 1, 2, 2, 2, 3, 4\n",
            "Here is your list without duplicates:  [1, 2, 3, 4]\n"
          ]
        }
      ],
      "source": [
        "#Write a program to remove duplicates from a list.\n",
        "\n",
        "# Get user's list of numbers\n",
        "user_input = input(\"Please enter a list of numbers separated by commas: \")\n",
        "\n",
        "# Look for numbers between commas and create empty list\n",
        "make_a_list = user_input.split(',')\n",
        "numbers = []\n",
        "\n",
        "# Iterate through each number in the list to convert to integers\n",
        "for num_str in make_a_list:\n",
        "    number = int(num_str)\n",
        "    numbers.append(number)\n",
        "\n",
        "# Remove duplicates using a loop, hold all non-duplicates in a list\n",
        "unique_numbers = []\n",
        "\n",
        "for num in numbers:\n",
        "    if num not in unique_numbers:\n",
        "        unique_numbers.append(num)\n",
        "\n",
        "# Print the result\n",
        "print(\"Here is your list without duplicates: \", unique_numbers)\n",
        "\n"
      ]
    }
  ]
}