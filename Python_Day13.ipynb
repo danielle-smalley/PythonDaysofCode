{
  "nbformat": 4,
  "nbformat_minor": 0,
  "metadata": {
    "colab": {
      "provenance": [],
      "authorship_tag": "ABX9TyONd710SLSpTQeMMHQCmjDS",
      "include_colab_link": true
    },
    "kernelspec": {
      "name": "python3",
      "display_name": "Python 3"
    },
    "language_info": {
      "name": "python"
    }
  },
  "cells": [
    {
      "cell_type": "markdown",
      "metadata": {
        "id": "view-in-github",
        "colab_type": "text"
      },
      "source": [
        "<a href=\"https://colab.research.google.com/github/danielle-smalley/PythonDaysofCode/blob/main/Python_Day13.ipynb\" target=\"_parent\"><img src=\"https://colab.research.google.com/assets/colab-badge.svg\" alt=\"Open In Colab\"/></a>"
      ]
    },
    {
      "cell_type": "code",
      "execution_count": 3,
      "metadata": {
        "colab": {
          "base_uri": "https://localhost:8080/"
        },
        "id": "6ah2sBIIZSqq",
        "outputId": "eb32a4c2-ed51-4fb5-e42d-c3e9d46afb77"
      },
      "outputs": [
        {
          "output_type": "stream",
          "name": "stdout",
          "text": [
            "Enter a list of objects separated by commas: cat, dog, bird, hamster, lizard, snake, hedgehog\n",
            "Shuffled list: ['cat', ' hamster', ' lizard', ' bird', ' snake', ' hedgehog', ' dog']\n"
          ]
        }
      ],
      "source": [
        "#Write a program to shuffle the elements of a list randomly.\n",
        "\n",
        "import random\n",
        "\n",
        "# Get user's list\n",
        "user_input = input(\"Enter a list of objects separated by commas: \")\n",
        "\n",
        "# Make it into a list\n",
        "objects = user_input.split(',')\n",
        "\n",
        "# Randomize the list items\n",
        "random.shuffle(objects)\n",
        "\n",
        "# Print the randomized result\n",
        "print(\"Shuffled list:\", objects)"
      ]
    }
  ]
}